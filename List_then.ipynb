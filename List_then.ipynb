{
 "cells": [
  {
   "cell_type": "code",
   "execution_count": 1,
   "metadata": {},
   "outputs": [],
   "source": [
    "data_set=[\n",
    "    ['Sunny','Warm','Normal','Strong','Warm','Same','yes'],\n",
    "    ['Sunny','Warm','High','Strong','Cool','Change','yes'],\n",
    "    ['cloudy','cold','High','Strong','Warm','Same','no']\n",
    "]\n",
    "\n",
    "attribute=[\n",
    "    ['Sunny','cloudy' ],\n",
    "    ['Warm','cold'],\n",
    "    ['Normal','High'],\n",
    "    ['Strong','weak'],\n",
    "    ['Warm','Cool'],\n",
    "    ['Same','Change']\n",
    "]\n",
    "\n",
    "hypothesis=['?'] * len(data_set[0])"
   ]
  },
  {
   "cell_type": "code",
   "execution_count": 2,
   "metadata": {},
   "outputs": [
    {
     "name": "stdout",
     "output_type": "stream",
     "text": [
      "the natural negative  [['cloudy', 'cold', 'High', 'Strong', 'Warm', 'Same', 'no']]\n",
      "['Sunny', '?', '?', '?', '?', '?', '?']\n",
      "['?', 'Warm', '?', '?', '?', '?', '?']\n",
      "['?', '?', 'Normal', '?', '?', '?', '?']\n",
      "['?', '?', '?', 'weak', '?', '?', '?']\n",
      "['?', '?', '?', '?', 'Cool', '?', '?']\n",
      "['?', '?', '?', '?', '?', 'Change', '?']\n"
     ]
    }
   ],
   "source": [
    "# negative\n",
    "negative =[]\n",
    "for i in range(len(data_set)):\n",
    "    if data_set[i][-1] == 'no':\n",
    "        negative.append(data_set[i])\n",
    "\n",
    "print ('the natural negative '  , negative)\n",
    "\n",
    "for x in range(len(negative)):\n",
    "    for i in range(len(negative[0])-1):\n",
    "        all_att = attribute[i]\n",
    "        for val in all_att:\n",
    "            if val != negative[x][i]:\n",
    "                hypothesis[i] = val\n",
    "                print(hypothesis)\n",
    "                hypothesis = ['?'] * len(data_set[0])\n"
   ]
  },
  {
   "cell_type": "code",
   "execution_count": null,
   "metadata": {},
   "outputs": [],
   "source": []
  },
  {
   "cell_type": "code",
   "execution_count": null,
   "metadata": {},
   "outputs": [],
   "source": []
  }
 ],
 "metadata": {
  "kernelspec": {
   "display_name": "Python 3",
   "language": "python",
   "name": "python3"
  },
  "language_info": {
   "codemirror_mode": {
    "name": "ipython",
    "version": 3
   },
   "file_extension": ".py",
   "mimetype": "text/x-python",
   "name": "python",
   "nbconvert_exporter": "python",
   "pygments_lexer": "ipython3",
   "version": "3.6.3"
  }
 },
 "nbformat": 4,
 "nbformat_minor": 2
}
