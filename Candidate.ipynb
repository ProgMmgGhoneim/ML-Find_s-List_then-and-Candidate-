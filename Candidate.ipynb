{
 "cells": [
  {
   "cell_type": "code",
   "execution_count": 1,
   "metadata": {},
   "outputs": [],
   "source": [
    "data_set = [ ['sunny' , 'warm' ,'normal' ,'strong','warm' ,'same' ,'yes'] ,\n",
    "             ['sunny' , 'warm' , 'high' ,'strong' ,'warm','same' ,'yes'],\n",
    "             ['cloudy','cold' ,'high','strong','warm','change' ,'no'],\n",
    "             ['sunny','warm','high','strong','cool','change','yes']\n",
    "            ]\n",
    "\n",
    "attribute=[\n",
    "    ['sunny','cloudy'],\n",
    "    ['warm','cold'],\n",
    "    ['normal','high'],\n",
    "    ['strong','weak'],\n",
    "    ['warm','cool'],\n",
    "    ['same','change']\n",
    "]\n",
    "\n",
    "s = ['0']*6\n",
    "g = ['?']*len(data_set[0])"
   ]
  },
  {
   "cell_type": "code",
   "execution_count": 2,
   "metadata": {},
   "outputs": [],
   "source": [
    "positive = []\n",
    "negative = []\n",
    "check    = []\n",
    "\n",
    "for i in range(len(data_set)):\n",
    "    if data_set[i][-1] == 'yes':\n",
    "        positive.append(data_set[i])\n",
    "    else:\n",
    "        negative.append(data_set[i])"
   ]
  },
  {
   "cell_type": "code",
   "execution_count": 3,
   "metadata": {},
   "outputs": [],
   "source": [
    "def find_s(data_Set ,sp=s):\n",
    "    for x in range(0, 3):\n",
    "        for y in range(6):\n",
    "            if sp[x] == '0':\n",
    "                sp = positive[x]\n",
    "                #print  'the first hypothes ', sp\n",
    "            elif positive[x][y] != sp[y] or positive[x][y] == '?':\n",
    "                sp[y] = '?'\n",
    "            else:\n",
    "                pass\n",
    "    #print sp\n",
    "    return sp"
   ]
  },
  {
   "cell_type": "code",
   "execution_count": 4,
   "metadata": {},
   "outputs": [],
   "source": [
    "def list_then(data_Set ,ge =g):\n",
    "    for x in range(len(data_Set)):\n",
    "        for i in range(len(data_Set[0])-1):\n",
    "            all_att = attribute[i]\n",
    "            for val in all_att:\n",
    "                if val != data_Set[x][i]:\n",
    "                    ge[i] = val\n",
    "                    print(ge)\n",
    "                    check.append(ge)\n",
    "                    ge = ['?'] * len(data_set[0])\n",
    "\n",
    "        return check\n"
   ]
  },
  {
   "cell_type": "code",
   "execution_count": 5,
   "metadata": {},
   "outputs": [
    {
     "name": "stdout",
     "output_type": "stream",
     "text": [
      "the specific is : ['sunny', 'warm', '?', 'strong', '?', '?', 'yes']\n",
      "_____________________________________\n",
      "_____________________________________\n",
      "_____________________________________\n",
      "['sunny', '?', '?', '?', '?', '?', '?']\n",
      "['?', 'warm', '?', '?', '?', '?', '?']\n",
      "['?', '?', 'normal', '?', '?', '?', '?']\n",
      "['?', '?', '?', 'weak', '?', '?', '?']\n",
      "['?', '?', '?', '?', 'cool', '?', '?']\n",
      "['?', '?', '?', '?', '?', 'same', '?']\n"
     ]
    }
   ],
   "source": [
    "a=find_s(positive)\n",
    "\n",
    "print('the specific is :',a)\n",
    "\n",
    "print('__________________' \\\n",
    "      '___________________')\n",
    "\n",
    "print('__________________' \\\n",
    "      '___________________')\n",
    "\n",
    "print('__________________' \\\n",
    "      '___________________') \n",
    "\n",
    "c=list_then(negative)"
   ]
  },
  {
   "cell_type": "code",
   "execution_count": 6,
   "metadata": {},
   "outputs": [
    {
     "name": "stdout",
     "output_type": "stream",
     "text": [
      "the geneal is : [['sunny', '?', '?', '?', '?', '?', '?'], ['?', 'warm', '?', '?', '?', '?', '?']]\n"
     ]
    }
   ],
   "source": [
    "\n",
    "#print c\n",
    "result =[]\n",
    "def candidate(list1 ,list2):\n",
    "    for v in range(6):\n",
    "        if list1[v]==list2[v][v]:\n",
    "            result.append(list2[v])\n",
    "        else:\n",
    "            continue\n",
    "    return result\n",
    "\n",
    "\n",
    "ss=candidate(a ,c)\n",
    "'''print('__________________' \\\n",
    "      '___________________')\n",
    "\n",
    "print('__________________' \\\n",
    "      '___________________')\n",
    "\n",
    "print('__________________' \\\n",
    "      '___________________') \n",
    "'''\n",
    "print ('the geneal is :' , result)\n"
   ]
  },
  {
   "cell_type": "code",
   "execution_count": 7,
   "metadata": {},
   "outputs": [
    {
     "name": "stdout",
     "output_type": "stream",
     "text": [
      "in between : ['warm    sunny', 'strong    sunny', 'strong    warm']\n"
     ]
    }
   ],
   "source": [
    "ddd=[]\n",
    "for bb in range(6):\n",
    "    for k in range(6):\n",
    "        if k != bb:\n",
    "            if a[bb] != '?' and a[k]!='?':\n",
    "                ddd.append(a[bb] + \"    \"+ a[k])\n",
    "        else:\n",
    "            break\n",
    "\n",
    "\n",
    "print('in between :', ddd)"
   ]
  },
  {
   "cell_type": "code",
   "execution_count": null,
   "metadata": {},
   "outputs": [],
   "source": []
  }
 ],
 "metadata": {
  "kernelspec": {
   "display_name": "Python 3",
   "language": "python",
   "name": "python3"
  },
  "language_info": {
   "codemirror_mode": {
    "name": "ipython",
    "version": 3
   },
   "file_extension": ".py",
   "mimetype": "text/x-python",
   "name": "python",
   "nbconvert_exporter": "python",
   "pygments_lexer": "ipython3",
   "version": "3.6.3"
  }
 },
 "nbformat": 4,
 "nbformat_minor": 2
}
