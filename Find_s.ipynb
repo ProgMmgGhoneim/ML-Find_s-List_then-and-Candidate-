{
 "cells": [
  {
   "cell_type": "code",
   "execution_count": 1,
   "metadata": {},
   "outputs": [],
   "source": [
    "data_set = [ ['sunny' , 'warm' ,'normal' ,'strong','warm' ,'same' ,'yes'] ,\n",
    "             ['sunny' , 'warm' , 'high' ,'strong' ,'warm','same' ,'yes'],\n",
    "             ['rainy','cold' ,'high','strong','warm','change' ,'no'],\n",
    "             ['sunny','warm','high','strong','cool','change','yes']\n",
    "            ]\n",
    "h =['0']*6"
   ]
  },
  {
   "cell_type": "code",
   "execution_count": 2,
   "metadata": {},
   "outputs": [
    {
     "data": {
      "text/plain": [
       "[['sunny', 'warm', 'normal', 'strong', 'warm', 'same', 'yes'],\n",
       " ['sunny', 'warm', 'high', 'strong', 'warm', 'same', 'yes'],\n",
       " ['sunny', 'warm', 'high', 'strong', 'cool', 'change', 'yes']]"
      ]
     },
     "execution_count": 2,
     "metadata": {},
     "output_type": "execute_result"
    }
   ],
   "source": [
    "# postive value\n",
    "positive =[]\n",
    "for i in range(len(data_set)):\n",
    "    if data_set[i][-1] == 'yes':\n",
    "        positive.append(data_set[i])\n",
    "positive"
   ]
  },
  {
   "cell_type": "code",
   "execution_count": 3,
   "metadata": {},
   "outputs": [
    {
     "name": "stdout",
     "output_type": "stream",
     "text": [
      "the first hypothes  ['sunny', 'warm', 'normal', 'strong', 'warm', 'same', 'yes']\n",
      "the last hypothes  ['sunny', 'warm', '?', 'strong', '?', '?', 'yes']\n"
     ]
    }
   ],
   "source": [
    "for x in range(len(positive)):\n",
    "    for y in range(len(positive[0])):\n",
    "        if h[x] == '0' :\n",
    "            h= positive[x]\n",
    "            print('the first hypothes ', h)  \n",
    "        elif  positive[x][y] != h[y] or positive[x][y] == '?':\n",
    "            h[y]= '?'\n",
    "        else:\n",
    "            pass\n",
    "        \n",
    "print ('the last hypothes ', h)"
   ]
  },
  {
   "cell_type": "code",
   "execution_count": null,
   "metadata": {},
   "outputs": [],
   "source": []
  }
 ],
 "metadata": {
  "kernelspec": {
   "display_name": "Python 3",
   "language": "python",
   "name": "python3"
  },
  "language_info": {
   "codemirror_mode": {
    "name": "ipython",
    "version": 3
   },
   "file_extension": ".py",
   "mimetype": "text/x-python",
   "name": "python",
   "nbconvert_exporter": "python",
   "pygments_lexer": "ipython3",
   "version": "3.6.3"
  }
 },
 "nbformat": 4,
 "nbformat_minor": 2
}
